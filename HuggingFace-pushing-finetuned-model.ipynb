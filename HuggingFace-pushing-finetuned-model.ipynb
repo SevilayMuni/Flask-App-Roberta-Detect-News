{
 "cells": [
  {
   "cell_type": "markdown",
   "id": "2830a0f3",
   "metadata": {},
   "source": [
    "# Loading The Model & Tokenizer to HuggingFace"
   ]
  },
  {
   "cell_type": "markdown",
   "id": "e4549096",
   "metadata": {},
   "source": [
    "Model: Fine-Tuned Roberta\n",
    "Hugging Face Model Card: SevilayG/Roberta-detect-unreliable-news"
   ]
  },
  {
   "cell_type": "code",
   "execution_count": 1,
   "id": "714d69ce",
   "metadata": {},
   "outputs": [],
   "source": [
    "from transformers import AutoModelForSequenceClassification, AutoTokenizer\n",
    "from huggingface_hub import HfApi\n",
    "from huggingface_hub import login"
   ]
  },
  {
   "cell_type": "code",
   "execution_count": null,
   "id": "815dfdc5",
   "metadata": {
    "scrolled": true
   },
   "outputs": [],
   "source": [
    "# Login using the personal token\n",
    "login(token = \"your-token\")"
   ]
  },
  {
   "cell_type": "code",
   "execution_count": 3,
   "id": "854fd445",
   "metadata": {},
   "outputs": [],
   "source": [
    "# Paths to your local model directory\n",
    "model_dir = \"roberta_model\""
   ]
  },
  {
   "cell_type": "code",
   "execution_count": null,
   "id": "81cf2215",
   "metadata": {},
   "outputs": [],
   "source": [
    "# Load the model and tokenizer\n",
    "model = AutoModelForSequenceClassification.from_pretrained(model_dir)\n",
    "tokenizer = AutoTokenizer.from_pretrained(model_dir)\n",
    "\n",
    "# Push to Hugging Face Hub\n",
    "model.push_to_hub(\"SevilayG/Roberta-detect-unreliable-news\")\n",
    "tokenizer.push_to_hub(\"SevilayG/Roberta-detect-unreliable-news\")"
   ]
  },
  {
   "cell_type": "markdown",
   "id": "58037443",
   "metadata": {},
   "source": [
    "***"
   ]
  }
 ],
 "metadata": {
  "kernelspec": {
   "display_name": "Python 3 (ipykernel)",
   "language": "python",
   "name": "python3"
  },
  "language_info": {
   "codemirror_mode": {
    "name": "ipython",
    "version": 3
   },
   "file_extension": ".py",
   "mimetype": "text/x-python",
   "name": "python",
   "nbconvert_exporter": "python",
   "pygments_lexer": "ipython3",
   "version": "3.11.5"
  }
 },
 "nbformat": 4,
 "nbformat_minor": 5
}
